{
 "cells": [
  {
   "cell_type": "code",
   "execution_count": 11,
   "metadata": {},
   "outputs": [
    {
     "name": "stdout",
     "output_type": "stream",
     "text": [
      "879750\n",
      "945574\n",
      "64\n"
     ]
    }
   ],
   "source": [
    "import rl\n",
    "import gym\n",
    "import gym_search\n",
    "\n",
    "envs = gym.vector.make(\"Gaussian-v0\", num_envs=1, shape=(15, 15))\n",
    "map_agent = rl.agents.make(\"map\", envs, use_position=True)\n",
    "lstm_agent = rl.agents.make(\"lstm\", envs)\n",
    "\n",
    "def num_params(model, trainable=True):\n",
    "    if trainable:\n",
    "        return sum(p.numel() for p in model.parameters() if p.requires_grad)\n",
    "    else:\n",
    "        return sum(p.numel() for p in model.parameters())\n",
    "\n",
    "print(num_params(map_agent))\n",
    "print(num_params(lstm_agent))\n",
    "\n",
    "print(map_agent.map_net.output_dim)"
   ]
  }
 ],
 "metadata": {
  "interpreter": {
   "hash": "916dbcbb3f70747c44a77c7bcd40155683ae19c65e1c03b4aa3499c5328201f1"
  },
  "kernelspec": {
   "display_name": "Python 3.8.10 64-bit",
   "language": "python",
   "name": "python3"
  },
  "language_info": {
   "codemirror_mode": {
    "name": "ipython",
    "version": 3
   },
   "file_extension": ".py",
   "mimetype": "text/x-python",
   "name": "python",
   "nbconvert_exporter": "python",
   "pygments_lexer": "ipython3",
   "version": "3.8.10"
  },
  "orig_nbformat": 4
 },
 "nbformat": 4,
 "nbformat_minor": 2
}
