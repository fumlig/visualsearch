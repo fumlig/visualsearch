{
 "cells": [
  {
   "cell_type": "code",
   "execution_count": 6,
   "metadata": {},
   "outputs": [
    {
     "name": "stderr",
     "output_type": "stream",
     "text": [
      "100%|██████████| 1000/1000 [00:01<00:00, 778.39it/s]\n"
     ]
    },
    {
     "data": {
      "text/plain": [
       "<matplotlib.image.AxesImage at 0x7f0ba40a33d0>"
      ]
     },
     "execution_count": 6,
     "metadata": {},
     "output_type": "execute_result"
    },
    {
     "data": {
      "image/png": "[encoded data removed]",
      "text/plain": [
       "<Figure size 432x288 with 1 Axes>"
      ]
     },
     "metadata": {
      "needs_background": "light"
     },
     "output_type": "display_data"
    }
   ],
   "source": [
    "import numpy as np\n",
    "import moderngl as gl\n",
    "import matplotlib.pyplot as plt\n",
    "import pyrr as pr\n",
    "from tqdm import tqdm\n",
    "\n",
    "\n",
    "class Camera():\n",
    "\n",
    "    def __init__(self, ratio):\n",
    "        self.position = pr.Vector3([0.0, 0.0, 0.0])\n",
    "        self.front = pr.Vector3([0.0, 0.0, 1.0])\n",
    "        self.up = pr.Vector3([0.0, 1.0, 0.0])\n",
    "\n",
    "        self.yaw = -np.pi/2\n",
    "        self.pitch = 0.0\n",
    "        self.fov = np.pi/3\n",
    "        self.ratio = ratio\n",
    "        self.z_near = 0.1\n",
    "        self.z_far = 1000.0\n",
    "\n",
    "\n",
    "    def translate(self, x, y, z):\n",
    "        self.position += self.right*x + self.up*y + self.front * z\n",
    "\n",
    "    def rotate(self, pitch, yaw):\n",
    "        self.pitch = max(-np.pi/2+0.1, min(np.pi/2-0.1, self.pitch + pitch))\n",
    "        self.yaw += yaw\n",
    "\n",
    "    def zoom(self, zoom):\n",
    "        self.fov = max(0.1, min(np.pi/4, self.fov + zoom))\n",
    "\n",
    "    def update(self):\n",
    "        self.front = pr.vector.normalize(pr.Vector3([np.cos(self.yaw)*np.cos(self.pitch), np.sin(self.pitch), np.sin(self.yaw)*np.cos(self.pitch)]))\n",
    "        self.right = pr.vector.normalize(self.front.cross(0.0, 1.0, 0.0))\n",
    "        self.up = pr.vector.normalize(self.right, self.front)\n",
    "\n",
    "    def model(self):\n",
    "        return pr.matrix44.create_from_translation(self.position)\n",
    "\n",
    "    def view(self):\n",
    "        return pr.Matrix44.look_at(self.position, self.position + self.front, self.up)\n",
    "\n",
    "    def projection(self):\n",
    "        return pr.Matrix44.perspective_projection(self.fov, self.ratio, self.z_near, self.z_far)\n",
    "\n",
    "\n",
    "def grid(size, steps):\n",
    "    u = np.repeat(np.linspace(-size, size, steps), 2)\n",
    "    v = np.tile([-size, size], steps)\n",
    "    w = np.zeros(steps * 2)\n",
    "    return np.concatenate([np.dstack([u, v, w]), np.dstack([v, u, w])])\n",
    "\n",
    "\n",
    "gl_version = (3, 3)\n",
    "\n",
    "ctx = gl.create_standalone_context()\n",
    "\n",
    "prog = ctx.program(\n",
    "    vertex_shader='''\n",
    "        #version 330\n",
    "        uniform mat4 mvp;\n",
    "        in vec3 in_vert;\n",
    "        void main() {\n",
    "            gl_Position = mvp * vec4(in_vert, 1.0);\n",
    "        }\n",
    "    ''',\n",
    "    fragment_shader='''\n",
    "        #version 330\n",
    "        out vec4 f_color;\n",
    "        void main() {\n",
    "            f_color = vec4(0.1, 0.1, 0.1, 1.0);\n",
    "        }\n",
    "    ''',\n",
    ")\n",
    "\n",
    "camera = Camera(1.0)\n",
    "mvp = prog['mvp']\n",
    "vbo = ctx.buffer(grid(15, 10).astype('f4'))\n",
    "vao = ctx.simple_vertex_array(prog, vbo, 'in_vert')\n",
    "\n",
    "\n",
    "\n",
    "ctx.enable(gl.DEPTH_TEST)\n",
    "\n",
    "for _ in tqdm(range(1000)):\n",
    "    fbo = ctx.simple_framebuffer((64, 64))\n",
    "    fbo.use()\n",
    "    fbo.clear(0.0, 0.0, 0.0, 1.0)\n",
    "\n",
    "    mvp.write((camera.projection() * camera.view() * camera.model()).astype('f4'))\n",
    "    vao.render(gl.LINES)\n",
    "\n",
    "    buf = fbo.read(components=3, dtype='f4')\n",
    "\n",
    "    img = np.frombuffer(buf, dtype='f4').reshape(64, 64, 3)\n",
    "\n",
    "plt.imshow(img)\n"
   ]
  }
 ],
 "metadata": {
  "interpreter": {
   "hash": "916dbcbb3f70747c44a77c7bcd40155683ae19c65e1c03b4aa3499c5328201f1"
  },
  "kernelspec": {
   "display_name": "Python 3.8.10 64-bit",
   "language": "python",
   "name": "python3"
  },
  "language_info": {
   "codemirror_mode": {
    "name": "ipython",
    "version": 3
   },
   "file_extension": ".py",
   "mimetype": "text/x-python",
   "name": "python",
   "nbconvert_exporter": "python",
   "pygments_lexer": "ipython3",
   "version": "3.10.4"
  },
  "orig_nbformat": 4
 },
 "nbformat": 4,
 "nbformat_minor": 2
}
