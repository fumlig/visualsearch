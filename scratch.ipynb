{
 "cells": [
  {
   "cell_type": "code",
   "execution_count": 2,
   "metadata": {},
   "outputs": [
    {
     "name": "stdout",
     "output_type": "stream",
     "text": [
      "Jupyter environment detected. Enabling Open3D WebVisualizer.\n",
      "[Open3D INFO] WebRTC GUI backend enabled.\n",
      "[Open3D INFO] WebRTCWindowSystem: HTTP handshake server disabled.\n"
     ]
    }
   ],
   "source": [
    "import os\n",
    "import open3d as o3d\n",
    "import numpy as np\n",
    "import matplotlib.pyplot as plt"
   ]
  },
  {
   "cell_type": "code",
   "execution_count": null,
   "metadata": {},
   "outputs": [],
   "source": [
    "pyexample_path = os.path.dirname(os.path.dirname(os.path.abspath(__file__)))\n",
    "test_data_path = os.path.join(os.path.dirname(pyexample_path), 'test_data')"
   ]
  },
  {
   "cell_type": "code",
   "execution_count": null,
   "metadata": {},
   "outputs": [],
   "source": [
    "def custom_draw_geometry_with_camera_trajectory(pcd, camera_trajectory_path,\n",
    "                                                render_option_path):\n",
    "    custom_draw_geometry_with_camera_trajectory.index = -1\n",
    "    custom_draw_geometry_with_camera_trajectory.trajectory =\\\n",
    "        o3d.io.read_pinhole_camera_trajectory(camera_trajectory_path)\n",
    "    custom_draw_geometry_with_camera_trajectory.vis = o3d.visualization.Visualizer(\n",
    "    )\n",
    "    image_path = os.path.join(test_data_path, 'image')\n",
    "    if not os.path.exists(image_path):\n",
    "        os.makedirs(image_path)\n",
    "    depth_path = os.path.join(test_data_path, 'depth')\n",
    "    if not os.path.exists(depth_path):\n",
    "        os.makedirs(depth_path)\n",
    "\n",
    "    def move_forward(vis):\n",
    "        # This function is called within the o3d.visualization.Visualizer::run() loop\n",
    "        # The run loop calls the function, then re-render\n",
    "        # So the sequence in this function is to:\n",
    "        # 1. Capture frame\n",
    "        # 2. index++, check ending criteria\n",
    "        # 3. Set camera\n",
    "        # 4. (Re-render)\n",
    "        ctr = vis.get_view_control()\n",
    "        glb = custom_draw_geometry_with_camera_trajectory\n",
    "        if glb.index >= 0:\n",
    "            print(\"Capture image {:05d}\".format(glb.index))\n",
    "            depth = vis.capture_depth_float_buffer(False)\n",
    "            image = vis.capture_screen_float_buffer(False)\n",
    "            plt.imsave(os.path.join(depth_path, \"{:05d}.png\".format(glb.index)),\n",
    "                       np.asarray(depth),\n",
    "                       dpi=1)\n",
    "            plt.imsave(os.path.join(image_path, \"{:05d}.png\".format(glb.index)),\n",
    "                       np.asarray(image),\n",
    "                       dpi=1)\n",
    "            #vis.capture_depth_image(\"depth/{:05d}.png\".format(glb.index), False)\n",
    "            #vis.capture_screen_image(\"image/{:05d}.png\".format(glb.index), False)\n",
    "        glb.index = glb.index + 1\n",
    "        if glb.index < len(glb.trajectory.parameters):\n",
    "            ctr.convert_from_pinhole_camera_parameters(\n",
    "                glb.trajectory.parameters[glb.index])\n",
    "        else:\n",
    "            custom_draw_geometry_with_camera_trajectory.vis.\\\n",
    "                register_animation_callback(None)\n",
    "        return False\n",
    "\n",
    "    vis = custom_draw_geometry_with_camera_trajectory.vis\n",
    "    vis.create_window()\n",
    "    vis.add_geometry(pcd)\n",
    "    vis.get_render_option().load_from_json(render_option_path)\n",
    "    vis.register_animation_callback(move_forward)\n",
    "    vis.run()\n",
    "    vis.destroy_window()\n"
   ]
  },
  {
   "cell_type": "code",
   "execution_count": 3,
   "metadata": {},
   "outputs": [
    {
     "name": "stdout",
     "output_type": "stream",
     "text": [
      "Headless rendering is not enabled. Please rebuild Open3D with ENABLE_HEADLESS_RENDERING=ON\n"
     ]
    }
   ],
   "source": [
    "if not o3d._build_config['ENABLE_HEADLESS_RENDERING']:\n",
    "    print(\"Headless rendering is not enabled. \"\n",
    "            \"Please rebuild Open3D with ENABLE_HEADLESS_RENDERING=ON\")\n",
    "    exit(1)\n"
   ]
  },
  {
   "cell_type": "code",
   "execution_count": null,
   "metadata": {},
   "outputs": [],
   "source": [
    "\n",
    "sample_data = o3d.data.DemoCustomVisualization()\n",
    "pcd = o3d.io.read_point_cloud(sample_data.path,\n",
    "                                sample_data.camera_trajectory_path,\n",
    "                                sample_data.render_option_path)\n",
    "\n",
    "print(\"Customized visualization playing a camera trajectory. \"\n",
    "        \"Press ctrl+z to terminate.\")\n",
    "custom_draw_geometry_with_camera_trajectory(pcd)"
   ]
  },
  {
   "cell_type": "code",
   "execution_count": 2,
   "metadata": {},
   "outputs": [
    {
     "name": "stdout",
     "output_type": "stream",
     "text": [
      "Jupyter environment detected. Enabling Open3D WebVisualizer.\n",
      "[Open3D INFO] WebRTC GUI backend enabled.\n",
      "[Open3D INFO] WebRTCWindowSystem: HTTP handshake server disabled.\n"
     ]
    }
   ],
   "source": [
    "import open3d as o3d\n",
    "\n",
    "WIDTH = 64\n",
    "HEIGHT = 64\n",
    "\n",
    "vis = o3d.visualization.Visualizer()\n",
    "\n",
    "for i in range(4):\n",
    "    vis.create_window(f\"{i}\", WIDTH, HEIGHT)\n",
    "\n",
    "for i in range(4):\n",
    "    vis.destroy_window()"
   ]
  }
 ],
 "metadata": {
  "interpreter": {
   "hash": "916dbcbb3f70747c44a77c7bcd40155683ae19c65e1c03b4aa3499c5328201f1"
  },
  "kernelspec": {
   "display_name": "Python 3.8.10 64-bit",
   "language": "python",
   "name": "python3"
  },
  "language_info": {
   "codemirror_mode": {
    "name": "ipython",
    "version": 3
   },
   "file_extension": ".py",
   "mimetype": "text/x-python",
   "name": "python",
   "nbconvert_exporter": "python",
   "pygments_lexer": "ipython3",
   "version": "3.8.10"
  },
  "orig_nbformat": 4
 },
 "nbformat": 4,
 "nbformat_minor": 2
}
