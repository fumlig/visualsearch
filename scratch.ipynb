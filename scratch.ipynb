{
 "cells": [
  {
   "cell_type": "code",
   "execution_count": 1,
   "metadata": {},
   "outputs": [],
   "source": [
    "import geopandas\n",
    "\n",
    "df = geopandas.read_file(\"data/xview/train_labels/xView_train.geojson\")"
   ]
  },
  {
   "cell_type": "code",
   "execution_count": 5,
   "metadata": {},
   "outputs": [
    {
     "data": {
      "text/plain": [
       "0         (2712, 1145, 2746, 1177)\n",
       "1         (2720, 2233, 2760, 2288)\n",
       "2         (2687, 1338, 2740, 1399)\n",
       "3         (2691, 1201, 2730, 1268)\n",
       "4           (2671, 838, 2714, 869)\n",
       "                    ...           \n",
       "601932      (710, 1900, 738, 1925)\n",
       "601933      (2091, 258, 2138, 295)\n",
       "601934      (2106, 361, 2124, 379)\n",
       "601935        (1917, 38, 1958, 64)\n",
       "601936        (2323, 55, 2349, 74)\n",
       "Name: bounds_imcoords, Length: 601937, dtype: object"
      ]
     },
     "execution_count": 5,
     "metadata": {},
     "output_type": "execute_result"
    }
   ],
   "source": [
    "df[\"bounds_imcoords\"]"
   ]
  }
 ],
 "metadata": {
  "interpreter": {
   "hash": "916dbcbb3f70747c44a77c7bcd40155683ae19c65e1c03b4aa3499c5328201f1"
  },
  "kernelspec": {
   "display_name": "Python 3.8.10 64-bit",
   "language": "python",
   "name": "python3"
  },
  "language_info": {
   "codemirror_mode": {
    "name": "ipython",
    "version": 3
   },
   "file_extension": ".py",
   "mimetype": "text/x-python",
   "name": "python",
   "nbconvert_exporter": "python",
   "pygments_lexer": "ipython3",
   "version": "3.8.10"
  },
  "orig_nbformat": 4
 },
 "nbformat": 4,
 "nbformat_minor": 2
}
