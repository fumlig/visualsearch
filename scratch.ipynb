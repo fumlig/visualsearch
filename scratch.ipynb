{
 "cells": [
  {
   "cell_type": "code",
   "execution_count": 1,
   "metadata": {},
   "outputs": [
    {
     "name": "stderr",
     "output_type": "stream",
     "text": [
      "\n",
      "15960it [00:18, 822.51it/s] "
     ]
    }
   ],
   "source": [
    "import numpy as np\n",
    "import gym\n",
    "import gym_search\n",
    "\n",
    "from tqdm import tqdm\n",
    "\n",
    "NUM_ENVS = 1\n",
    "NUM_STEPS = 1_000_000\n",
    "\n",
    "rng = np.random.default_rng()\n",
    "envs = gym.vector.make(\"Camera-v0\", num_envs=NUM_ENVS, asynchronous=True)\n",
    "pbar = tqdm()\n",
    "\n",
    "envs.reset()\n",
    "\n",
    "for _ in tqdm(range(0, NUM_STEPS, NUM_ENVS)):\n",
    "    envs.step(rng.integers(0, envs.single_action_space.n, NUM_ENVS))\n",
    "    pbar.update(NUM_ENVS)"
   ]
  }
 ],
 "metadata": {
  "interpreter": {
   "hash": "916dbcbb3f70747c44a77c7bcd40155683ae19c65e1c03b4aa3499c5328201f1"
  },
  "kernelspec": {
   "display_name": "Python 3.8.10 64-bit",
   "language": "python",
   "name": "python3"
  },
  "language_info": {
   "codemirror_mode": {
    "name": "ipython",
    "version": 3
   },
   "file_extension": ".py",
   "mimetype": "text/x-python",
   "name": "python",
   "nbconvert_exporter": "python",
   "pygments_lexer": "ipython3",
   "version": "3.8.10"
  },
  "orig_nbformat": 4
 },
 "nbformat": 4,
 "nbformat_minor": 2
}
