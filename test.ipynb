{
 "cells": [
  {
   "cell_type": "code",
   "execution_count": 1,
   "metadata": {},
   "outputs": [],
   "source": [
    "%load_ext autoreload\n",
    "%autoreload 2\n",
    "%matplotlib inline"
   ]
  },
  {
   "cell_type": "code",
   "execution_count": 22,
   "metadata": {},
   "outputs": [
    {
     "name": "stdout",
     "output_type": "stream",
     "text": [
      "Requirement already satisfied: pymartini in /home/oslund/.local/lib/python3.8/site-packages (0.4.3)\n",
      "Requirement already satisfied: numpy in /home/oslund/.local/lib/python3.8/site-packages (from pymartini) (1.21.5)\n",
      "Requirement already satisfied: pydelatin in /home/oslund/.local/lib/python3.8/site-packages (0.2.6)\n",
      "Requirement already satisfied: numpy in /home/oslund/.local/lib/python3.8/site-packages (from pydelatin) (1.21.5)\n",
      "/home/oslund/.local/lib/python3.8/site-packages/pkg_resources/__init__.py:116: PkgResourcesDeprecationWarning: 0.23ubuntu1 is an invalid version and will not be supported in a future release\n",
      "  warnings.warn(\n",
      "/home/oslund/.local/lib/python3.8/site-packages/pkg_resources/__init__.py:116: PkgResourcesDeprecationWarning: 0.1.36ubuntu1 is an invalid version and will not be supported in a future release\n",
      "  warnings.warn(\n",
      "Collecting pyrender\n",
      "  Downloading pyrender-0.1.45-py3-none-any.whl (1.2 MB)\n",
      "\u001b[K     |████████████████████████████████| 1.2 MB 8.3 MB/s eta 0:00:01\n",
      "\u001b[?25hCollecting trimesh\n",
      "  Downloading trimesh-3.10.5-py3-none-any.whl (641 kB)\n",
      "\u001b[K     |████████████████████████████████| 641 kB 57.1 MB/s eta 0:00:01\n",
      "\u001b[?25hRequirement already satisfied: numpy in /home/oslund/.local/lib/python3.8/site-packages (from pyrender) (1.21.5)\n",
      "Requirement already satisfied: networkx in /home/oslund/.local/lib/python3.8/site-packages (from pyrender) (2.7)\n",
      "Requirement already satisfied: six in /usr/lib/python3/dist-packages (from pyrender) (1.14.0)\n",
      "Requirement already satisfied: imageio in /home/oslund/.local/lib/python3.8/site-packages (from pyrender) (2.16.0)\n",
      "Collecting freetype-py\n",
      "  Downloading freetype_py-2.2.0-py3-none-manylinux1_x86_64.whl (890 kB)\n",
      "\u001b[K     |████████████████████████████████| 890 kB 42.6 MB/s eta 0:00:01\n",
      "\u001b[?25hRequirement already satisfied: Pillow in /home/oslund/.local/lib/python3.8/site-packages (from pyrender) (9.0.1)\n",
      "Requirement already satisfied: scipy in /home/oslund/.local/lib/python3.8/site-packages (from pyrender) (1.8.0)\n",
      "Collecting PyOpenGL==3.1.0\n",
      "  Downloading PyOpenGL-3.1.0.tar.gz (1.2 MB)\n",
      "\u001b[K     |████████████████████████████████| 1.2 MB 43.7 MB/s eta 0:00:01\n",
      "\u001b[?25hRequirement already satisfied: pyglet>=1.4.10 in /home/oslund/.local/lib/python3.8/site-packages (from pyrender) (1.5.21)\n",
      "Building wheels for collected packages: PyOpenGL\n",
      "  Building wheel for PyOpenGL (setup.py) ... \u001b[?25ldone\n",
      "\u001b[?25h  Created wheel for PyOpenGL: filename=PyOpenGL-3.1.0-py3-none-any.whl size=1745210 sha256=e689b77042f9798e8ca4f4c7e937c4901e6d78ce03f7f2f87b510b6e5c238beb\n",
      "  Stored in directory: /home/oslund/.cache/pip/wheels/31/ab/09/6df62d2a93f81ff0d5c2fb94723d1c56fb0202b65e638b9029\n",
      "Successfully built PyOpenGL\n",
      "Installing collected packages: trimesh, freetype-py, PyOpenGL, pyrender\n",
      "Successfully installed PyOpenGL-3.1.0 freetype-py-2.2.0 pyrender-0.1.45 trimesh-3.10.5\n"
     ]
    }
   ],
   "source": [
    "!pip install pymartini\n",
    "!pip install pydelatin\n",
    "!pip install pyrender"
   ]
  }
 ],
 "metadata": {
  "interpreter": {
   "hash": "916dbcbb3f70747c44a77c7bcd40155683ae19c65e1c03b4aa3499c5328201f1"
  },
  "kernelspec": {
   "display_name": "Python 3 (ipykernel)",
   "language": "python",
   "name": "python3"
  },
  "language_info": {
   "codemirror_mode": {
    "name": "ipython",
    "version": 3
   },
   "file_extension": ".py",
   "mimetype": "text/x-python",
   "name": "python",
   "nbconvert_exporter": "python",
   "pygments_lexer": "ipython3",
   "version": "3.8.10"
  }
 },
 "nbformat": 4,
 "nbformat_minor": 2
}
