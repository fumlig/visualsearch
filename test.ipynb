{
 "cells": [
  {
   "cell_type": "code",
   "execution_count": 7,
   "metadata": {},
   "outputs": [
    {
     "data": {
      "text/plain": [
       "EnvSpec(entry_point=<class 'gym_search.envs.search.SearchEnv'>, reward_threshold=None, nondeterministic=False, max_episode_steps=None, order_enforce=True, kwargs={'generator': <gym_search.generators.GaussianGenerator object at 0x7fb10cf9bf40>, 'view_shape': (16, 16), 'step_size': 16}, namespace=None, name='SearchGaussian', version=0)"
      ]
     },
     "execution_count": 7,
     "metadata": {},
     "output_type": "execute_result"
    }
   ],
   "source": [
    "import gym\n",
    "import gym_search\n",
    "\n",
    "env = gym.make(\"SearchGaussian-v0\")\n",
    "env.spec"
   ]
  }
 ],
 "metadata": {
  "interpreter": {
   "hash": "916dbcbb3f70747c44a77c7bcd40155683ae19c65e1c03b4aa3499c5328201f1"
  },
  "kernelspec": {
   "display_name": "Python 3 (ipykernel)",
   "language": "python",
   "name": "python3"
  },
  "language_info": {
   "codemirror_mode": {
    "name": "ipython",
    "version": 3
   },
   "file_extension": ".py",
   "mimetype": "text/x-python",
   "name": "python",
   "nbconvert_exporter": "python",
   "pygments_lexer": "ipython3",
   "version": "3.8.10"
  }
 },
 "nbformat": 4,
 "nbformat_minor": 2
}
