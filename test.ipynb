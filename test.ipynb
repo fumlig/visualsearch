{
 "cells": [
  {
   "cell_type": "code",
   "execution_count": 1,
   "metadata": {},
   "outputs": [],
   "source": [
    "%load_ext autoreload\n",
    "%autoreload 2"
   ]
  },
  {
   "cell_type": "code",
   "execution_count": 2,
   "metadata": {},
   "outputs": [
    {
     "name": "stdout",
     "output_type": "stream",
     "text": [
      "Using cuda device\n",
      "Wrapping the env in a VecTransposeImage.\n",
      "Logging to logs/sb3_8\n",
      "----------------------------------\n",
      "| rollout/           |           |\n",
      "|    ep_len_mean     | 925       |\n",
      "|    ep_rew_mean     | -2.29e+03 |\n",
      "| time/              |           |\n",
      "|    fps             | 1701      |\n",
      "|    iterations      | 1         |\n",
      "|    time_elapsed    | 9         |\n",
      "|    total_timesteps | 16384     |\n",
      "----------------------------------\n"
     ]
    }
   ],
   "source": [
    "import gym\n",
    "import gym_search\n",
    "from gym_search.wrappers import ObserveVisible, ObserveVisited, ResizeImage\n",
    "from stable_baselines3 import PPO\n",
    "from stable_baselines3.ppo import MultiInputPolicy\n",
    "from stable_baselines3.common.env_util import make_vec_env\n",
    "\n",
    "env = make_vec_env(\"SearchGaussian-v0\", n_envs=8, wrapper_class=ResizeImage)\n",
    "\n",
    "model = PPO(MultiInputPolicy, env, verbose=2, tensorboard_log=\"logs\", ent_coef=0.01)\n",
    "\n",
    "model.learn(total_timesteps=10000000, tb_log_name=\"sb3\")"
   ]
  }
 ],
 "metadata": {
  "interpreter": {
   "hash": "916dbcbb3f70747c44a77c7bcd40155683ae19c65e1c03b4aa3499c5328201f1"
  },
  "kernelspec": {
   "display_name": "Python 3 (ipykernel)",
   "language": "python",
   "name": "python3"
  },
  "language_info": {
   "codemirror_mode": {
    "name": "ipython",
    "version": 3
   },
   "file_extension": ".py",
   "mimetype": "text/x-python",
   "name": "python",
   "nbconvert_exporter": "python",
   "pygments_lexer": "ipython3",
   "version": "3.8.10"
  }
 },
 "nbformat": 4,
 "nbformat_minor": 2
}
